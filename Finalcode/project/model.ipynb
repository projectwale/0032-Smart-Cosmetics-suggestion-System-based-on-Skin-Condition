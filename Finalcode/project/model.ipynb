{
 "cells": [
  {
   "cell_type": "code",
   "execution_count": 1,
   "id": "b7d90b46",
   "metadata": {},
   "outputs": [
    {
     "name": "stderr",
     "output_type": "stream",
     "text": [
      "C:\\Users\\sushant\\anaconda3\\envs\\project\\lib\\site-packages\\numpy\\_distributor_init.py:30: UserWarning: loaded more than 1 DLL from .libs:\n",
      "C:\\Users\\sushant\\anaconda3\\envs\\project\\lib\\site-packages\\numpy\\.libs\\libopenblas.PYQHXLVVQ7VESDPUVUADXEVJOBGHJPAY.gfortran-win_amd64.dll\n",
      "C:\\Users\\sushant\\anaconda3\\envs\\project\\lib\\site-packages\\numpy\\.libs\\libopenblas.wcdjnk7yvmpzq2me2zzhjjrj3jikndb7.gfortran-win_amd64.dll\n",
      "  warnings.warn(\"loaded more than 1 DLL from .libs:\"\n"
     ]
    }
   ],
   "source": [
    "import pandas as pd\n",
    "import seaborn as sns\n",
    "import matplotlib.pyplot as plt\n",
    "import numpy as np\n",
    "import os,cv2"
   ]
  },
  {
   "cell_type": "code",
   "execution_count": 2,
   "id": "8e96c727",
   "metadata": {},
   "outputs": [],
   "source": [
    "directory=\"dataset/train/\"\n",
    "classses=os.listdir(directory)"
   ]
  },
  {
   "cell_type": "code",
   "execution_count": 3,
   "id": "24550c33",
   "metadata": {},
   "outputs": [
    {
     "data": {
      "text/plain": [
       "['Combination', 'Dry', 'Normal', 'Oily']"
      ]
     },
     "execution_count": 3,
     "metadata": {},
     "output_type": "execute_result"
    }
   ],
   "source": [
    "classses"
   ]
  },
  {
   "cell_type": "code",
   "execution_count": null,
   "id": "ec160d69",
   "metadata": {},
   "outputs": [],
   "source": []
  },
  {
   "cell_type": "code",
   "execution_count": null,
   "id": "1ae029d8",
   "metadata": {},
   "outputs": [],
   "source": []
  },
  {
   "cell_type": "code",
   "execution_count": 4,
   "id": "422ca332",
   "metadata": {},
   "outputs": [
    {
     "name": "stdout",
     "output_type": "stream",
     "text": [
      "dataset/train/Combination\n",
      "dataset/train/Dry\n",
      "dataset/train/Normal\n",
      "dataset/train/Oily\n"
     ]
    }
   ],
   "source": [
    "import os\n",
    "import cv2\n",
    "image_size=224\n",
    "data1=[]#empty list\n",
    "for category in classses:\n",
    "    path = os.path.join(directory, category)\n",
    "    print(path)\n",
    "    label = classses.index(category)\n",
    "    for img in os.listdir(path):\n",
    "        img_path = os.path.join(path, img)\n",
    "#         print(\"img path\")\n",
    "#         print(img_path)\n",
    "        arr = cv2.imread(img_path)#Reading Images\n",
    "        arr = cv2.cvtColor(arr, cv2.COLOR_BGR2RGB)\n",
    "        new_arr = cv2.resize(arr, (image_size, image_size))#Resizing into same shape\n",
    "        data1.append([new_arr, label])"
   ]
  },
  {
   "cell_type": "code",
   "execution_count": 5,
   "id": "ea01903a",
   "metadata": {},
   "outputs": [],
   "source": [
    "import random\n",
    "random.shuffle(data1)"
   ]
  },
  {
   "cell_type": "code",
   "execution_count": 6,
   "id": "887ef5ca",
   "metadata": {},
   "outputs": [
    {
     "data": {
      "text/plain": [
       "210"
      ]
     },
     "execution_count": 6,
     "metadata": {},
     "output_type": "execute_result"
    }
   ],
   "source": [
    "len(data1)"
   ]
  },
  {
   "cell_type": "code",
   "execution_count": 7,
   "id": "14e417e2",
   "metadata": {},
   "outputs": [],
   "source": [
    "x=[]#independent\n",
    "y=[]#dependent\n",
    "for features,labels in data1:\n",
    "    x.append(features)\n",
    "    y.append(labels)"
   ]
  },
  {
   "cell_type": "code",
   "execution_count": 8,
   "id": "b12589c0",
   "metadata": {},
   "outputs": [],
   "source": [
    "x=np.array(x)\n",
    "y=np.array(y)"
   ]
  },
  {
   "cell_type": "code",
   "execution_count": 9,
   "id": "6a11acec",
   "metadata": {},
   "outputs": [],
   "source": [
    "from sklearn.model_selection import train_test_split\n",
    "X_train,X_test,y_train,y_test=train_test_split(x,y,test_size=0.2)"
   ]
  },
  {
   "cell_type": "code",
   "execution_count": 10,
   "id": "0ef785e4",
   "metadata": {},
   "outputs": [],
   "source": [
    "from tensorflow.keras import applications\n",
    "from tensorflow.keras import layers\n",
    "from tensorflow import keras\n",
    "from tensorflow.keras import optimizers\n",
    "from tensorflow.keras.models import Sequential ,Model, load_model\n",
    "from tensorflow.keras.layers import Dropout, Flatten, Dense ,Dropout\n",
    "\n",
    "from tensorflow.keras.callbacks import ModelCheckpoint, LearningRateScheduler, EarlyStopping, ReduceLROnPlateau, TensorBoard\n",
    "base_model = applications.InceptionV3(weights='imagenet', include_top=False, input_shape=(224,224,3))\n",
    "model = Sequential()\n",
    "model.add(base_model)\n",
    "model.add(Flatten(input_shape=base_model.output_shape[1:]))\n",
    "model.add(Dense(256, activation='relu'))\n",
    "model.add(Dropout(0.2))\n",
    "model.add(Dense(128, activation='relu'))\n",
    "model.add(Dropout(0.2))\n",
    "model.add(Dense(len(classses), activation='softmax'))\n",
    "model = Model(inputs=model.input, outputs=model.output)\n",
    "model.compile(loss='sparse_categorical_crossentropy',optimizer=optimizers.Adam(lr=1e-4),metrics=['accuracy'])"
   ]
  },
  {
   "cell_type": "code",
   "execution_count": 11,
   "id": "97bb086e",
   "metadata": {},
   "outputs": [
    {
     "name": "stdout",
     "output_type": "stream",
     "text": [
      "Epoch 1/7\n",
      "6/6 [==============================] - 37s 6s/step - loss: 1.6285 - accuracy: 0.3095 - val_loss: 1.6466 - val_accuracy: 0.2619\n",
      "Epoch 2/7\n",
      "6/6 [==============================] - 36s 6s/step - loss: 0.9611 - accuracy: 0.6250 - val_loss: 1.8254 - val_accuracy: 0.2619\n",
      "Epoch 3/7\n",
      "6/6 [==============================] - 36s 6s/step - loss: 0.5728 - accuracy: 0.7857 - val_loss: 1.5995 - val_accuracy: 0.1429\n",
      "Epoch 4/7\n",
      "6/6 [==============================] - 36s 6s/step - loss: 0.2547 - accuracy: 0.9226 - val_loss: 1.6300 - val_accuracy: 0.3810\n",
      "Epoch 5/7\n",
      "6/6 [==============================] - 36s 6s/step - loss: 0.1625 - accuracy: 0.9524 - val_loss: 1.5794 - val_accuracy: 0.3333\n",
      "Epoch 6/7\n",
      "6/6 [==============================] - 36s 6s/step - loss: 0.1517 - accuracy: 0.9583 - val_loss: 1.6598 - val_accuracy: 0.2143\n",
      "Epoch 7/7\n",
      "6/6 [==============================] - 36s 6s/step - loss: 0.0556 - accuracy: 0.9881 - val_loss: 1.7781 - val_accuracy: 0.3571\n"
     ]
    }
   ],
   "source": [
    "progess = model.fit(x=X_train,y=y_train,epochs=7,validation_data= (X_test, y_test), batch_size=32)"
   ]
  },
  {
   "cell_type": "code",
   "execution_count": 12,
   "id": "1fde487a",
   "metadata": {},
   "outputs": [
    {
     "data": {
      "image/png": "[encoded data removed]",
      "text/plain": [
       "<Figure size 640x480 with 1 Axes>"
      ]
     },
     "metadata": {},
     "output_type": "display_data"
    },
    {
     "data": {
      "image/png": "[encoded data removed]",
      "text/plain": [
       "<Figure size 640x480 with 1 Axes>"
      ]
     },
     "metadata": {},
     "output_type": "display_data"
    }
   ],
   "source": [
    "plt.plot(progess.history['accuracy'])\n",
    "plt.plot(progess.history['val_accuracy'])\n",
    "plt.title('model accuracy')\n",
    "plt.ylabel('accuracy')\n",
    "plt.xlabel('epoch')\n",
    "plt.legend(['train', 'test'], loc='upper left')\n",
    "plt.show()\n",
    "# summarize history for loss\n",
    "plt.plot(progess.history['loss'])\n",
    "plt.plot(progess.history['val_loss'])\n",
    "plt.title('model loss')\n",
    "plt.ylabel('loss')\n",
    "plt.xlabel('epoch')\n",
    "plt.legend(['train', 'test'], loc='upper left')\n",
    "plt.show()"
   ]
  },
  {
   "cell_type": "code",
   "execution_count": 13,
   "id": "669929a6",
   "metadata": {},
   "outputs": [],
   "source": [
    "from sklearn.metrics import classification_report, confusion_matrix\n",
    "y_pred = model.predict(X_test)"
   ]
  },
  {
   "cell_type": "code",
   "execution_count": 14,
   "id": "4442878f",
   "metadata": {},
   "outputs": [],
   "source": [
    "y_pred_new=[]\n",
    "for i in y_pred:\n",
    "    #print(i)\n",
    "    #break\n",
    "    y=np.argmax(i)\n",
    "    #break\n",
    "    #print(y)\n",
    "    y_pred_new.append(y)\n",
    "    #break"
   ]
  },
  {
   "cell_type": "code",
   "execution_count": 15,
   "id": "9fd95f86",
   "metadata": {},
   "outputs": [
    {
     "name": "stdout",
     "output_type": "stream",
     "text": [
      "              precision    recall  f1-score   support\n",
      "\n",
      " Combination       0.57      0.50      0.53         8\n",
      "         Dry       0.00      0.00      0.00        12\n",
      "      Normal       0.38      0.25      0.30        12\n",
      "        Oily       0.30      0.80      0.43        10\n",
      "\n",
      "    accuracy                           0.36        42\n",
      "   macro avg       0.31      0.39      0.32        42\n",
      "weighted avg       0.29      0.36      0.29        42\n",
      "\n"
     ]
    },
    {
     "name": "stderr",
     "output_type": "stream",
     "text": [
      "C:\\Users\\sushant\\AppData\\Roaming\\Python\\Python38\\site-packages\\sklearn\\metrics\\_classification.py:1344: UndefinedMetricWarning: Precision and F-score are ill-defined and being set to 0.0 in labels with no predicted samples. Use `zero_division` parameter to control this behavior.\n",
      "  _warn_prf(average, modifier, msg_start, len(result))\n",
      "C:\\Users\\sushant\\AppData\\Roaming\\Python\\Python38\\site-packages\\sklearn\\metrics\\_classification.py:1344: UndefinedMetricWarning: Precision and F-score are ill-defined and being set to 0.0 in labels with no predicted samples. Use `zero_division` parameter to control this behavior.\n",
      "  _warn_prf(average, modifier, msg_start, len(result))\n",
      "C:\\Users\\sushant\\AppData\\Roaming\\Python\\Python38\\site-packages\\sklearn\\metrics\\_classification.py:1344: UndefinedMetricWarning: Precision and F-score are ill-defined and being set to 0.0 in labels with no predicted samples. Use `zero_division` parameter to control this behavior.\n",
      "  _warn_prf(average, modifier, msg_start, len(result))\n"
     ]
    }
   ],
   "source": [
    "from sklearn.metrics import classification_report, confusion_matrix\n",
    "print(classification_report(y_test, y_pred_new, target_names=classses))"
   ]
  },
  {
   "cell_type": "code",
   "execution_count": 16,
   "id": "83106b7e",
   "metadata": {},
   "outputs": [
    {
     "data": {
      "text/plain": [
       "<AxesSubplot:>"
      ]
     },
     "execution_count": 16,
     "metadata": {},
     "output_type": "execute_result"
    },
    {
     "data": {
      "image/png": "[encoded data removed]",
      "text/plain": [
       "<Figure size 1000x300 with 2 Axes>"
      ]
     },
     "metadata": {},
     "output_type": "display_data"
    }
   ],
   "source": [
    "from sklearn import metrics\n",
    "cm=metrics.confusion_matrix(y_test,y_pred_new)\n",
    "import pandas as pd\n",
    "df_cm=pd.DataFrame(cm)\n",
    "import seaborn as sns\n",
    "plt.figure(figsize = (10,3))\n",
    "sns.heatmap(df_cm, annot=True)"
   ]
  },
  {
   "cell_type": "code",
   "execution_count": 17,
   "id": "5a8ee8b7",
   "metadata": {},
   "outputs": [
    {
     "name": "stdout",
     "output_type": "stream",
     "text": [
      "WARNING:tensorflow:From C:\\Users\\sushant\\AppData\\Roaming\\Python\\Python38\\site-packages\\tensorflow\\python\\training\\tracking\\tracking.py:111: Model.state_updates (from tensorflow.python.keras.engine.training) is deprecated and will be removed in a future version.\n",
      "Instructions for updating:\n",
      "This property should not be used in TensorFlow 2.0, as updates are applied automatically.\n",
      "WARNING:tensorflow:From C:\\Users\\sushant\\AppData\\Roaming\\Python\\Python38\\site-packages\\tensorflow\\python\\training\\tracking\\tracking.py:111: Layer.updates (from tensorflow.python.keras.engine.base_layer) is deprecated and will be removed in a future version.\n",
      "Instructions for updating:\n",
      "This property should not be used in TensorFlow 2.0, as updates are applied automatically.\n",
      "INFO:tensorflow:Assets written to: savemodel/inception_classifier.hp5\\assets\n"
     ]
    }
   ],
   "source": [
    "model.save(\"savemodel/inception_classifier.hp5\")"
   ]
  },
  {
   "cell_type": "markdown",
   "id": "0de98898",
   "metadata": {},
   "source": [
    "# Resnet-50"
   ]
  },
  {
   "cell_type": "code",
   "execution_count": 18,
   "id": "5b09aae2",
   "metadata": {},
   "outputs": [],
   "source": [
    "from tensorflow.keras import applications\n",
    "from tensorflow.keras import layers\n",
    "from tensorflow import keras\n",
    "from tensorflow.keras import optimizers\n",
    "from tensorflow.keras.models import Sequential ,Model, load_model\n",
    "from tensorflow.keras.layers import Dropout, Flatten, Dense ,Dropout\n",
    "\n",
    "from tensorflow.keras.callbacks import ModelCheckpoint, LearningRateScheduler, EarlyStopping, ReduceLROnPlateau, TensorBoard\n",
    "base_model = applications.ResNet50(weights='imagenet', include_top=False, input_shape=(224,224,3))\n",
    "res_model = Sequential()\n",
    "res_model.add(base_model)\n",
    "res_model.add(Flatten(input_shape=base_model.output_shape[1:]))\n",
    "res_model.add(Dense(256, activation='relu'))\n",
    "res_model.add(Dropout(0.2))\n",
    "res_model.add(Dense(128, activation='relu'))\n",
    "res_model.add(Dropout(0.2))\n",
    "res_model.add(Dense(len(classses), activation='softmax'))\n",
    "res_model = Model(inputs=res_model.input, outputs=res_model.output)\n",
    "res_model.compile(loss='sparse_categorical_crossentropy',optimizer=optimizers.Adam(lr=1e-4),metrics=['accuracy'])"
   ]
  },
  {
   "cell_type": "code",
   "execution_count": 19,
   "id": "fa2e1ea6",
   "metadata": {},
   "outputs": [
    {
     "name": "stdout",
     "output_type": "stream",
     "text": [
      "Epoch 1/7\n",
      "2/2 [==============================] - 28s 14s/step - loss: 2.4321 - accuracy: 0.2619 - val_loss: 1.2919 - val_accuracy: 0.6429\n",
      "Epoch 2/7\n",
      "2/2 [==============================] - 24s 12s/step - loss: 0.4011 - accuracy: 0.8631 - val_loss: 1.8345 - val_accuracy: 0.4762\n",
      "Epoch 3/7\n",
      "2/2 [==============================] - 25s 13s/step - loss: 0.3162 - accuracy: 0.8810 - val_loss: 1.5703 - val_accuracy: 0.4762\n",
      "Epoch 4/7\n",
      "2/2 [==============================] - 25s 12s/step - loss: 0.0858 - accuracy: 0.9702 - val_loss: 1.2287 - val_accuracy: 0.5238\n",
      "Epoch 5/7\n",
      "2/2 [==============================] - 25s 12s/step - loss: 0.0740 - accuracy: 0.9643 - val_loss: 0.9245 - val_accuracy: 0.6667\n",
      "Epoch 6/7\n",
      "2/2 [==============================] - 25s 12s/step - loss: 0.0653 - accuracy: 0.9881 - val_loss: 0.8321 - val_accuracy: 0.7381\n",
      "Epoch 7/7\n",
      "2/2 [==============================] - 24s 12s/step - loss: 0.0293 - accuracy: 0.9940 - val_loss: 0.9017 - val_accuracy: 0.7143\n"
     ]
    }
   ],
   "source": [
    "progess1 = res_model.fit(x=X_train,y=y_train,epochs=7,validation_data= (X_test, y_test), batch_size=128)"
   ]
  },
  {
   "cell_type": "code",
   "execution_count": 20,
   "id": "282e1b4b",
   "metadata": {},
   "outputs": [
    {
     "data": {
      "image/png": "[encoded data removed]",
      "text/plain": [
       "<Figure size 640x480 with 1 Axes>"
      ]
     },
     "metadata": {},
     "output_type": "display_data"
    },
    {
     "data": {
      "image/png": "[encoded data removed]",
      "text/plain": [
       "<Figure size 640x480 with 1 Axes>"
      ]
     },
     "metadata": {},
     "output_type": "display_data"
    }
   ],
   "source": [
    "plt.plot(progess1.history['accuracy'])\n",
    "plt.plot(progess1.history['val_accuracy'])\n",
    "plt.title('model accuracy')\n",
    "plt.ylabel('accuracy')\n",
    "plt.xlabel('epoch')\n",
    "plt.legend(['train', 'test'], loc='upper left')\n",
    "plt.show()\n",
    "# summarize history for loss\n",
    "plt.plot(progess1.history['loss'])\n",
    "plt.plot(progess1.history['val_loss'])\n",
    "plt.title('model loss')\n",
    "plt.ylabel('loss')\n",
    "plt.xlabel('epoch')\n",
    "plt.legend(['train', 'test'], loc='upper left')\n",
    "plt.show()"
   ]
  },
  {
   "cell_type": "code",
   "execution_count": 21,
   "id": "e41a8d15",
   "metadata": {},
   "outputs": [],
   "source": [
    "from sklearn.metrics import classification_report, confusion_matrix\n",
    "y_pred1 = res_model.predict(X_test)"
   ]
  },
  {
   "cell_type": "code",
   "execution_count": 22,
   "id": "15e2eefd",
   "metadata": {},
   "outputs": [],
   "source": [
    "y_pred_new1=[]\n",
    "for i in y_pred1:\n",
    "    #print(i)\n",
    "    #break\n",
    "    y=np.argmax(i)\n",
    "    #break\n",
    "    #print(y)\n",
    "    y_pred_new1.append(y)\n",
    "    #break"
   ]
  },
  {
   "cell_type": "code",
   "execution_count": 23,
   "id": "4ce45430",
   "metadata": {},
   "outputs": [
    {
     "name": "stdout",
     "output_type": "stream",
     "text": [
      "              precision    recall  f1-score   support\n",
      "\n",
      " Combination       0.80      0.50      0.62         8\n",
      "         Dry       0.50      0.42      0.45        12\n",
      "      Normal       0.92      0.92      0.92        12\n",
      "        Oily       0.67      1.00      0.80        10\n",
      "\n",
      "    accuracy                           0.71        42\n",
      "   macro avg       0.72      0.71      0.70        42\n",
      "weighted avg       0.72      0.71      0.70        42\n",
      "\n"
     ]
    }
   ],
   "source": [
    "from sklearn.metrics import classification_report, confusion_matrix\n",
    "print(classification_report(y_test, y_pred_new1, target_names=classses))"
   ]
  },
  {
   "cell_type": "code",
   "execution_count": 24,
   "id": "5a97d42c",
   "metadata": {},
   "outputs": [
    {
     "data": {
      "text/plain": [
       "<AxesSubplot:>"
      ]
     },
     "execution_count": 24,
     "metadata": {},
     "output_type": "execute_result"
    },
    {
     "data": {
      "image/png": "[encoded data removed]",
      "text/plain": [
       "<Figure size 1000x300 with 2 Axes>"
      ]
     },
     "metadata": {},
     "output_type": "display_data"
    }
   ],
   "source": [
    "from sklearn import metrics\n",
    "cm=metrics.confusion_matrix(y_test,y_pred_new1)\n",
    "import pandas as pd\n",
    "df_cm=pd.DataFrame(cm)\n",
    "import seaborn as sns\n",
    "plt.figure(figsize = (10,3))\n",
    "sns.heatmap(df_cm, annot=True)"
   ]
  },
  {
   "cell_type": "code",
   "execution_count": null,
   "id": "65bbf796",
   "metadata": {},
   "outputs": [],
   "source": []
  },
  {
   "cell_type": "code",
   "execution_count": 25,
   "id": "47957a9b",
   "metadata": {},
   "outputs": [
    {
     "name": "stdout",
     "output_type": "stream",
     "text": [
      "INFO:tensorflow:Assets written to: savemodel/resnet_classifier.hp5\\assets\n"
     ]
    }
   ],
   "source": [
    "\n",
    "res_model.save(\"savemodel/resnet_classifier.hp5\")"
   ]
  },
  {
   "cell_type": "markdown",
   "id": "318d28d9",
   "metadata": {},
   "source": [
    "# EfficientB7"
   ]
  },
  {
   "cell_type": "code",
   "execution_count": 31,
   "id": "9f91468e",
   "metadata": {},
   "outputs": [],
   "source": [
    "from tensorflow.keras import applications\n",
    "from tensorflow.keras import layers\n",
    "from tensorflow.keras.callbacks import ModelCheckpoint, LearningRateScheduler, EarlyStopping, ReduceLROnPlateau, TensorBoard\n",
    "from sklearn.model_selection import train_test_split\n",
    "#X_train,X_test,y_train,y_test=train_test_split(x,y,test_size=0.2)\n",
    "\n",
    "\n",
    "base_model = applications.EfficientNetB7(weights='imagenet', include_top=False, input_shape=(224,224,3))\n",
    "\n",
    "model_eff = Sequential()\n",
    "#data_augmentation = keras.Sequential([layers.experimental.preprocessing.RandomRotation(0.1)])\n",
    "model_eff.add(base_model)\n",
    "model_eff.add(Flatten(input_shape=base_model.output_shape[1:]))\n",
    "model_eff.add(Dense(512, activation='relu'))\n",
    "model_eff.add(Dense(256, activation='relu'))\n",
    "model_eff.add(Dense(128, activation='relu'))\n",
    "model_eff.add(Dense(64, activation='relu'))\n",
    "model_eff.add(Dense(len(classses), activation='softmax'))\n",
    "\n",
    "model_eff = Model(inputs=model_eff.input, outputs=model_eff.output)\n",
    "model_eff.compile(loss='sparse_categorical_crossentropy', optimizer=optimizers.Adam(lr=1e-4),\n",
    "              metrics=['accuracy'])"
   ]
  },
  {
   "cell_type": "code",
   "execution_count": null,
   "id": "972042bf",
   "metadata": {},
   "outputs": [
    {
     "name": "stdout",
     "output_type": "stream",
     "text": [
      "Epoch 1/7\n",
      "6/6 [==============================] - 1445s 241s/step - loss: 1.2545 - accuracy: 0.4107 - val_loss: 2.5503 - val_accuracy: 0.2381\n",
      "Epoch 2/7\n"
     ]
    }
   ],
   "source": [
    "progess3 = model_eff.fit(x=X_train,y=y_train,epochs=7,validation_data= (X_test, y_test), batch_size=32)"
   ]
  },
  {
   "cell_type": "code",
   "execution_count": null,
   "id": "74fb6239",
   "metadata": {},
   "outputs": [],
   "source": [
    "plt.plot(progess3.history['accuracy'])\n",
    "plt.plot(progess3.history['val_accuracy'])\n",
    "plt.title('model accuracy')\n",
    "plt.ylabel('accuracy')\n",
    "plt.xlabel('epoch')\n",
    "plt.legend(['train', 'test'], loc='upper left')\n",
    "plt.show()\n",
    "# summarize history for loss\n",
    "plt.plot(progess1.history['loss'])\n",
    "plt.plot(progess1.history['val_loss'])\n",
    "plt.title('model loss')\n",
    "plt.ylabel('loss')\n",
    "plt.xlabel('epoch')\n",
    "plt.legend(['train', 'test'], loc='upper left')\n",
    "plt.show()"
   ]
  },
  {
   "cell_type": "code",
   "execution_count": null,
   "id": "71855bc7",
   "metadata": {},
   "outputs": [],
   "source": [
    "from sklearn.metrics import classification_report, confusion_matrix\n",
    "y_pred1 = model_eff.predict(X_test)"
   ]
  },
  {
   "cell_type": "code",
   "execution_count": null,
   "id": "d0d85135",
   "metadata": {},
   "outputs": [],
   "source": [
    "y_pred_new1=[]\n",
    "for i in y_pred1:\n",
    "    #print(i)\n",
    "    #break\n",
    "    y=np.argmax(i)\n",
    "    #break\n",
    "    #print(y)\n",
    "    y_pred_new1.append(y)\n",
    "    #break"
   ]
  },
  {
   "cell_type": "code",
   "execution_count": null,
   "id": "b2335cd9",
   "metadata": {},
   "outputs": [],
   "source": [
    "from sklearn.metrics import classification_report, confusion_matrix\n",
    "print(classification_report(y_test, y_pred_new1, target_names=classses))"
   ]
  },
  {
   "cell_type": "code",
   "execution_count": null,
   "id": "d069909b",
   "metadata": {},
   "outputs": [],
   "source": [
    "from sklearn import metrics\n",
    "cm=metrics.confusion_matrix(y_test,y_pred_new1)\n",
    "import pandas as pd\n",
    "df_cm=pd.DataFrame(cm)\n",
    "import seaborn as sns\n",
    "plt.figure(figsize = (10,3))\n",
    "sns.heatmap(df_cm, annot=True)"
   ]
  },
  {
   "cell_type": "code",
   "execution_count": null,
   "id": "9368f481",
   "metadata": {},
   "outputs": [],
   "source": [
    "model_eff.save(\"savemodel/effcient_model.hp5\")"
   ]
  },
  {
   "cell_type": "code",
   "execution_count": null,
   "id": "0247a91e",
   "metadata": {},
   "outputs": [],
   "source": []
  },
  {
   "cell_type": "code",
   "execution_count": null,
   "id": "6794c8d5",
   "metadata": {},
   "outputs": [],
   "source": []
  },
  {
   "cell_type": "code",
   "execution_count": null,
   "id": "292fef90",
   "metadata": {},
   "outputs": [],
   "source": []
  },
  {
   "cell_type": "code",
   "execution_count": null,
   "id": "3db482ba",
   "metadata": {},
   "outputs": [],
   "source": []
  },
  {
   "cell_type": "code",
   "execution_count": null,
   "id": "98e597f7",
   "metadata": {},
   "outputs": [],
   "source": []
  },
  {
   "cell_type": "code",
   "execution_count": null,
   "id": "80ade812",
   "metadata": {},
   "outputs": [],
   "source": []
  },
  {
   "cell_type": "code",
   "execution_count": null,
   "id": "3083e58e",
   "metadata": {},
   "outputs": [],
   "source": []
  },
  {
   "cell_type": "code",
   "execution_count": null,
   "id": "e7e15981",
   "metadata": {},
   "outputs": [],
   "source": []
  },
  {
   "cell_type": "code",
   "execution_count": null,
   "id": "e9c6e340",
   "metadata": {},
   "outputs": [],
   "source": []
  },
  {
   "cell_type": "code",
   "execution_count": null,
   "id": "198506b7",
   "metadata": {},
   "outputs": [],
   "source": []
  },
  {
   "cell_type": "code",
   "execution_count": null,
   "id": "342dc416",
   "metadata": {},
   "outputs": [],
   "source": []
  },
  {
   "cell_type": "code",
   "execution_count": null,
   "id": "db316b5b",
   "metadata": {},
   "outputs": [],
   "source": []
  },
  {
   "cell_type": "code",
   "execution_count": null,
   "id": "6e707de1",
   "metadata": {},
   "outputs": [],
   "source": []
  },
  {
   "cell_type": "code",
   "execution_count": null,
   "id": "a34d6d1d",
   "metadata": {},
   "outputs": [],
   "source": []
  },
  {
   "cell_type": "code",
   "execution_count": null,
   "id": "b4d0e06d",
   "metadata": {},
   "outputs": [],
   "source": []
  },
  {
   "cell_type": "code",
   "execution_count": null,
   "id": "d003d32f",
   "metadata": {},
   "outputs": [],
   "source": []
  },
  {
   "cell_type": "code",
   "execution_count": null,
   "id": "4ce1c195",
   "metadata": {},
   "outputs": [],
   "source": []
  },
  {
   "cell_type": "code",
   "execution_count": null,
   "id": "e64ba59c",
   "metadata": {},
   "outputs": [],
   "source": []
  }
 ],
 "metadata": {
  "kernelspec": {
   "display_name": "Python 3 (ipykernel)",
   "language": "python",
   "name": "python3"
  },
  "language_info": {
   "codemirror_mode": {
    "name": "ipython",
    "version": 3
   },
   "file_extension": ".py",
   "mimetype": "text/x-python",
   "name": "python",
   "nbconvert_exporter": "python",
   "pygments_lexer": "ipython3",
   "version": "3.8.13"
  }
 },
 "nbformat": 4,
 "nbformat_minor": 5
}
