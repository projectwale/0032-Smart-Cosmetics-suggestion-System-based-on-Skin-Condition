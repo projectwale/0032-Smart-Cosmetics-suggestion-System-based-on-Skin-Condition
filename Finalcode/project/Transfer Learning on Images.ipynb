{
 "cells": [
  {
   "cell_type": "code",
   "execution_count": 1,
   "id": "cce45dae",
   "metadata": {},
   "outputs": [
    {
     "name": "stderr",
     "output_type": "stream",
     "text": [
      "C:\\Users\\sushant\\anaconda3\\envs\\project\\lib\\site-packages\\numpy\\_distributor_init.py:30: UserWarning: loaded more than 1 DLL from .libs:\n",
      "C:\\Users\\sushant\\anaconda3\\envs\\project\\lib\\site-packages\\numpy\\.libs\\libopenblas.PYQHXLVVQ7VESDPUVUADXEVJOBGHJPAY.gfortran-win_amd64.dll\n",
      "C:\\Users\\sushant\\anaconda3\\envs\\project\\lib\\site-packages\\numpy\\.libs\\libopenblas.wcdjnk7yvmpzq2me2zzhjjrj3jikndb7.gfortran-win_amd64.dll\n",
      "  warnings.warn(\"loaded more than 1 DLL from .libs:\"\n"
     ]
    }
   ],
   "source": [
    "import pandas as pd\n",
    "import seaborn as sns\n",
    "import matplotlib.pyplot as plt\n",
    "import numpy as np\n",
    "import os,cv2"
   ]
  },
  {
   "cell_type": "code",
   "execution_count": 2,
   "id": "9d6c3a68",
   "metadata": {},
   "outputs": [],
   "source": [
    "directory=\"dataset/train/\"\n",
    "classses=os.listdir(directory)"
   ]
  },
  {
   "cell_type": "code",
   "execution_count": 3,
   "id": "d452afc9",
   "metadata": {},
   "outputs": [
    {
     "name": "stdout",
     "output_type": "stream",
     "text": [
      "dataset/train/Combination\n",
      "dataset/train/Dry\n",
      "dataset/train/Normal\n",
      "dataset/train/Oily\n"
     ]
    }
   ],
   "source": [
    "import os\n",
    "import cv2\n",
    "image_size=224\n",
    "data1=[]#empty list\n",
    "for category in classses:\n",
    "    path = os.path.join(directory, category)\n",
    "    print(path)\n",
    "    label = classses.index(category)\n",
    "    for img in os.listdir(path):\n",
    "        img_path = os.path.join(path, img)\n",
    "        arr = cv2.imread(img_path)#Reading Images\n",
    "        arr = cv2.cvtColor(arr, cv2.COLOR_BGR2RGB)\n",
    "        new_arr = cv2.resize(arr, (image_size, image_size))#Resizing into same shape\n",
    "        data1.append([new_arr, label])"
   ]
  },
  {
   "cell_type": "code",
   "execution_count": 4,
   "id": "528a3f67",
   "metadata": {},
   "outputs": [],
   "source": [
    "import random\n",
    "random.shuffle(data1)"
   ]
  },
  {
   "cell_type": "code",
   "execution_count": 5,
   "id": "4805c370",
   "metadata": {},
   "outputs": [
    {
     "data": {
      "text/plain": [
       "210"
      ]
     },
     "execution_count": 5,
     "metadata": {},
     "output_type": "execute_result"
    }
   ],
   "source": [
    "len(data1)"
   ]
  },
  {
   "cell_type": "code",
   "execution_count": 6,
   "id": "07ee87be",
   "metadata": {},
   "outputs": [
    {
     "data": {
      "text/plain": [
       "['Combination', 'Dry', 'Normal', 'Oily']"
      ]
     },
     "execution_count": 6,
     "metadata": {},
     "output_type": "execute_result"
    }
   ],
   "source": [
    "classses"
   ]
  },
  {
   "cell_type": "code",
   "execution_count": 7,
   "id": "61c0ce29",
   "metadata": {},
   "outputs": [],
   "source": [
    "x=[]#ndependent\n",
    "y=[]#dependent\n",
    "for features,labels in data1:\n",
    "    x.append(features)\n",
    "    y.append(labels)"
   ]
  },
  {
   "cell_type": "code",
   "execution_count": 8,
   "id": "57d2e51a",
   "metadata": {},
   "outputs": [],
   "source": [
    "x=np.array(x)\n",
    "y=np.array(y)\n",
    "#x=x/255 #feature scaling"
   ]
  },
  {
   "cell_type": "code",
   "execution_count": 9,
   "id": "204247a5",
   "metadata": {},
   "outputs": [],
   "source": [
    "from sklearn.model_selection import train_test_split\n",
    "X_train,X_test,y_train,y_test=train_test_split(x,y,test_size=0.2)"
   ]
  },
  {
   "cell_type": "code",
   "execution_count": 10,
   "id": "a6106aa2",
   "metadata": {},
   "outputs": [],
   "source": [
    "from tensorflow.keras import applications\n",
    "from tensorflow.keras import layers\n",
    "from tensorflow import keras\n",
    "from tensorflow.keras import optimizers\n",
    "from tensorflow.keras.models import Sequential ,Model, load_model\n",
    "from tensorflow.keras.layers import Dropout, Flatten, Dense ,Dropout\n",
    "from tensorflow.keras.callbacks import ModelCheckpoint, LearningRateScheduler, EarlyStopping, ReduceLROnPlateau, TensorBoard\n",
    "base_model = applications.VGG16(weights='imagenet', include_top=False, input_shape=(224,224,3))\n",
    "model = Sequential()\n",
    "model.add(base_model)\n",
    "model.add(Flatten(input_shape=base_model.output_shape[1:]))\n",
    "model.add(Dense(256, activation='relu'))\n",
    "model.add(Dropout(0.2))\n",
    "model.add(Dense(128, activation='relu'))\n",
    "model.add(Dropout(0.2))\n",
    "model.add(Dense(5, activation='softmax'))\n",
    "model = Model(inputs=model.input, outputs=model.output)\n",
    "model.compile(loss='sparse_categorical_crossentropy',optimizer=optimizers.Adam(lr=1e-4),metrics=['accuracy'])"
   ]
  },
  {
   "cell_type": "code",
   "execution_count": 11,
   "id": "a904894e",
   "metadata": {},
   "outputs": [
    {
     "name": "stdout",
     "output_type": "stream",
     "text": [
      "Epoch 1/10\n",
      "6/6 [==============================] - 75s 12s/step - loss: 3.3034 - accuracy: 0.2619 - val_loss: 1.7072 - val_accuracy: 0.4524\n",
      "Epoch 2/10\n",
      "6/6 [==============================] - 74s 12s/step - loss: 1.7110 - accuracy: 0.3214 - val_loss: 2.2912 - val_accuracy: 0.3095\n",
      "Epoch 3/10\n",
      "6/6 [==============================] - 74s 12s/step - loss: 1.8178 - accuracy: 0.3512 - val_loss: 1.2843 - val_accuracy: 0.4524\n",
      "Epoch 4/10\n",
      "6/6 [==============================] - 74s 12s/step - loss: 1.1570 - accuracy: 0.5298 - val_loss: 0.8715 - val_accuracy: 0.5952\n",
      "Epoch 5/10\n",
      "6/6 [==============================] - 74s 12s/step - loss: 0.9431 - accuracy: 0.6131 - val_loss: 0.7748 - val_accuracy: 0.7381\n",
      "Epoch 6/10\n",
      "6/6 [==============================] - 74s 12s/step - loss: 0.9476 - accuracy: 0.6131 - val_loss: 1.4971 - val_accuracy: 0.5000\n",
      "Epoch 7/10\n",
      "6/6 [==============================] - 74s 12s/step - loss: 0.9207 - accuracy: 0.6488 - val_loss: 0.9407 - val_accuracy: 0.6190\n",
      "Epoch 8/10\n",
      "6/6 [==============================] - 74s 12s/step - loss: 0.9225 - accuracy: 0.6131 - val_loss: 1.0622 - val_accuracy: 0.4524\n",
      "Epoch 9/10\n",
      "6/6 [==============================] - 77s 13s/step - loss: 0.8065 - accuracy: 0.6250 - val_loss: 0.7979 - val_accuracy: 0.6667\n",
      "Epoch 10/10\n",
      "6/6 [==============================] - 74s 12s/step - loss: 0.6142 - accuracy: 0.7440 - val_loss: 0.7376 - val_accuracy: 0.7381\n"
     ]
    }
   ],
   "source": [
    "progess = model.fit(x=X_train,y=y_train,epochs=10,validation_data= (X_test, y_test))"
   ]
  },
  {
   "cell_type": "code",
   "execution_count": 12,
   "id": "54b8b445",
   "metadata": {},
   "outputs": [
    {
     "data": {
      "image/png": "[encoded data removed]",
      "text/plain": [
       "<Figure size 640x480 with 1 Axes>"
      ]
     },
     "metadata": {},
     "output_type": "display_data"
    },
    {
     "data": {
      "image/png": "[encoded data removed]",
      "text/plain": [
       "<Figure size 640x480 with 1 Axes>"
      ]
     },
     "metadata": {},
     "output_type": "display_data"
    }
   ],
   "source": [
    "plt.plot(progess.history['accuracy'])\n",
    "plt.plot(progess.history['val_accuracy'])\n",
    "plt.title('model accuracy')\n",
    "plt.ylabel('accuracy')\n",
    "plt.xlabel('epoch')\n",
    "plt.legend(['train', 'test'], loc='upper left')\n",
    "plt.show()\n",
    "# summarize history for loss\n",
    "plt.plot(progess.history['loss'])\n",
    "plt.plot(progess.history['val_loss'])\n",
    "plt.title('model loss')\n",
    "plt.ylabel('loss')\n",
    "plt.xlabel('epoch')\n",
    "plt.legend(['train', 'test'], loc='upper left')\n",
    "plt.show()"
   ]
  },
  {
   "cell_type": "code",
   "execution_count": 13,
   "id": "1e0a1561",
   "metadata": {},
   "outputs": [],
   "source": [
    "from sklearn.metrics import classification_report, confusion_matrix\n",
    "y_pred = model.predict(X_test)"
   ]
  },
  {
   "cell_type": "code",
   "execution_count": 14,
   "id": "21378ef5",
   "metadata": {},
   "outputs": [],
   "source": [
    "y_pred_new=[]\n",
    "for i in y_pred:\n",
    "    #print(i)\n",
    "    #break\n",
    "    y=np.argmax(i)\n",
    "    #break\n",
    "    #print(y)\n",
    "    y_pred_new.append(y)\n",
    "    #break"
   ]
  },
  {
   "cell_type": "code",
   "execution_count": 15,
   "id": "814a094a",
   "metadata": {},
   "outputs": [
    {
     "name": "stdout",
     "output_type": "stream",
     "text": [
      "              precision    recall  f1-score   support\n",
      "\n",
      " Combination       0.57      0.44      0.50         9\n",
      "         Dry       0.60      0.75      0.67        12\n",
      "      Normal       0.78      0.88      0.82         8\n",
      "        Oily       1.00      0.85      0.92        13\n",
      "\n",
      "    accuracy                           0.74        42\n",
      "   macro avg       0.74      0.73      0.73        42\n",
      "weighted avg       0.75      0.74      0.74        42\n",
      "\n"
     ]
    }
   ],
   "source": [
    "from sklearn.metrics import classification_report, confusion_matrix\n",
    "print(classification_report(y_test, y_pred_new, target_names=classses))"
   ]
  },
  {
   "cell_type": "code",
   "execution_count": 16,
   "id": "a28092a2",
   "metadata": {},
   "outputs": [
    {
     "data": {
      "text/plain": [
       "<AxesSubplot:>"
      ]
     },
     "execution_count": 16,
     "metadata": {},
     "output_type": "execute_result"
    },
    {
     "data": {
      "image/png": "[encoded data removed]",
      "text/plain": [
       "<Figure size 1000x300 with 2 Axes>"
      ]
     },
     "metadata": {},
     "output_type": "display_data"
    }
   ],
   "source": [
    "from sklearn import metrics\n",
    "cm=metrics.confusion_matrix(y_test,y_pred_new)\n",
    "import pandas as pd\n",
    "df_cm=pd.DataFrame(cm)\n",
    "import seaborn as sns\n",
    "plt.figure(figsize = (10,3))\n",
    "sns.heatmap(df_cm, annot=True)"
   ]
  },
  {
   "cell_type": "code",
   "execution_count": 17,
   "id": "3bfd54bc",
   "metadata": {},
   "outputs": [
    {
     "name": "stdout",
     "output_type": "stream",
     "text": [
      "WARNING:tensorflow:From C:\\Users\\sushant\\AppData\\Roaming\\Python\\Python38\\site-packages\\tensorflow\\python\\training\\tracking\\tracking.py:111: Model.state_updates (from tensorflow.python.keras.engine.training) is deprecated and will be removed in a future version.\n",
      "Instructions for updating:\n",
      "This property should not be used in TensorFlow 2.0, as updates are applied automatically.\n",
      "WARNING:tensorflow:From C:\\Users\\sushant\\AppData\\Roaming\\Python\\Python38\\site-packages\\tensorflow\\python\\training\\tracking\\tracking.py:111: Layer.updates (from tensorflow.python.keras.engine.base_layer) is deprecated and will be removed in a future version.\n",
      "Instructions for updating:\n",
      "This property should not be used in TensorFlow 2.0, as updates are applied automatically.\n",
      "INFO:tensorflow:Assets written to: savemodel/VGGSKin.hp5\\assets\n"
     ]
    }
   ],
   "source": [
    "model.save(\"savemodel/VGGSKin.hp5\")"
   ]
  },
  {
   "cell_type": "code",
   "execution_count": 4,
   "id": "d2a3db8b",
   "metadata": {},
   "outputs": [],
   "source": [
    "import os\n",
    "import numpy as np\n",
    "import os,cv2"
   ]
  },
  {
   "cell_type": "code",
   "execution_count": 5,
   "id": "7e23232f",
   "metadata": {},
   "outputs": [
    {
     "name": "stdout",
     "output_type": "stream",
     "text": [
      "augCombi_1_jpg.rf.70e46ad380508106c1daddbbdb562d5d.jpg\n",
      "<class 'numpy.ndarray'>\n",
      "[0.48831242 0.15055765 0.2882302  0.05849678 0.01440287]\n",
      "0\n",
      "Combination Detected in Image\n",
      "-----------------------------------------------\n",
      "augNormal_1-1_jpg.rf.34afcfa54082f3721335fd8dd00649a7.jpg\n",
      "<class 'numpy.ndarray'>\n",
      "[0.5143027  0.12758017 0.33046997 0.02274632 0.00490089]\n",
      "0\n",
      "Combination Detected in Image\n",
      "-----------------------------------------------\n",
      "augOily_1_jpg.rf.a51667981a69893656085d9e9525d4c1.jpg\n",
      "<class 'numpy.ndarray'>\n",
      "[0.26492402 0.5150617  0.01009116 0.20233314 0.00758997]\n",
      "1\n",
      "Dry Detected in Image\n",
      "-----------------------------------------------\n",
      "Dry1_jpg.rf.1b84e6fba00ccc002c0f4e1a7cb956f2.jpg\n",
      "<class 'numpy.ndarray'>\n",
      "WARNING:tensorflow:5 out of the last 5 calls to <function Model.make_predict_function.<locals>.predict_function at 0x0000018638B7BEE0> triggered tf.function retracing. Tracing is expensive and the excessive number of tracings could be due to (1) creating @tf.function repeatedly in a loop, (2) passing tensors with different shapes, (3) passing Python objects instead of tensors. For (1), please define your @tf.function outside of the loop. For (2), @tf.function has experimental_relax_shapes=True option that relaxes argument shapes that can avoid unnecessary retracing. For (3), please refer to https://www.tensorflow.org/tutorials/customization/performance#python_or_tensor_args and https://www.tensorflow.org/api_docs/python/tf/function for  more details.\n",
      "[0.10765648 0.78661877 0.02420218 0.07364279 0.0078798 ]\n",
      "1\n",
      "Dry Detected in Image\n",
      "-----------------------------------------------\n"
     ]
    }
   ],
   "source": [
    "for i in os.listdir(\"test/\"):\n",
    "    print(i)\n",
    "    \n",
    "    from tensorflow import keras\n",
    "    model = keras.models.load_model('savemodel/VGGSKin.hp5')\n",
    "    from keras.preprocessing import image\n",
    "    image_size=224\n",
    "    #img = cv2.imread(path1+\"//\"+i)\n",
    "    path=\"test/\"+i\n",
    "    img = image.load_img(path, target_size=(image_size, image_size))\n",
    "    x = image.img_to_array(img)\n",
    "    print(type(x))\n",
    "    img_4d=x.reshape(1,224,224,3)\n",
    "    #img_4d=img_4d/255\n",
    "    model = keras.models.load_model('savemodel/VGGSKin.hp5')\n",
    "    predictions = model.predict(img_4d)\n",
    "    print(predictions[0])\n",
    "    new_pred=np.argmax(predictions[0])\n",
    "    print(new_pred)\n",
    "    \n",
    "#     ['Combination', 'Dry', 'Normal', 'Oily']\n",
    "    dict1={0:'Combination',1:'Dry',2:'Normal',3:'Oily'}\n",
    "    list1=[\"Combination\",\"Dry\",\"Normal\",\"Oily\"]\n",
    "    a=dict1[new_pred]\n",
    "    \n",
    "    print(str(a)+\" Detected in Image\")\n",
    "    print(\"-----------------------------------------------\")\n",
    "    #break"
   ]
  },
  {
   "cell_type": "code",
   "execution_count": null,
   "id": "474ce7f0",
   "metadata": {},
   "outputs": [],
   "source": [
    "# pip install Pillow"
   ]
  },
  {
   "cell_type": "code",
   "execution_count": null,
   "id": "1783f552",
   "metadata": {},
   "outputs": [],
   "source": []
  },
  {
   "cell_type": "code",
   "execution_count": null,
   "id": "ea47708b",
   "metadata": {},
   "outputs": [],
   "source": []
  },
  {
   "cell_type": "code",
   "execution_count": null,
   "id": "6204a6e0",
   "metadata": {},
   "outputs": [],
   "source": [
    "# from PIL import Image\n",
    "# import os\n",
    "\n",
    "# def resize_images(input_folder, output_folder, target_size):\n",
    "#     if not os.path.exists(output_folder):\n",
    "#         os.makedirs(output_folder)\n",
    "\n",
    "#     for filename in os.listdir(input_folder):\n",
    "#         if filename.endswith(('.jpg', '.png', '.jpeg')):  # Add more supported extensions if needed\n",
    "#             image_path = os.path.join(input_folder, filename)\n",
    "#             img = Image.open(image_path)\n",
    "            \n",
    "#             # Resize the image while maintaining the aspect ratio\n",
    "#             img.thumbnail(target_size)\n",
    "\n",
    "#             # Add padding to make the image exactly 512x512\n",
    "#             background = Image.new('RGB', target_size, (255, 255, 255))\n",
    "#             background.paste(img, ((target_size[0] - img.size[0]) // 2, (target_size[1] - img.size[1]) // 2))\n",
    "\n",
    "#             output_path = os.path.join(output_folder, filename)\n",
    "#             background.save(output_path)\n",
    "\n",
    "# input_folder = 'dataset/train/OTHERS'  # Replace with the path to your input folder\n",
    "# output_folder = 'dataset/train/newfolder'  # Replace with the path to your output folder\n",
    "# target_size = (512, 512)\n",
    "\n",
    "# resize_images(input_folder, output_folder, target_size)\n"
   ]
  },
  {
   "cell_type": "code",
   "execution_count": null,
   "id": "6c5e15ff",
   "metadata": {},
   "outputs": [],
   "source": []
  }
 ],
 "metadata": {
  "kernelspec": {
   "display_name": "Python 3 (ipykernel)",
   "language": "python",
   "name": "python3"
  },
  "language_info": {
   "codemirror_mode": {
    "name": "ipython",
    "version": 3
   },
   "file_extension": ".py",
   "mimetype": "text/x-python",
   "name": "python",
   "nbconvert_exporter": "python",
   "pygments_lexer": "ipython3",
   "version": "3.8.13"
  }
 },
 "nbformat": 4,
 "nbformat_minor": 5
}
